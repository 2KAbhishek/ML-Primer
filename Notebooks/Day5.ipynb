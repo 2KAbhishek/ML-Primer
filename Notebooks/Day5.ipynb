{
 "cells": [
  {
   "cell_type": "markdown",
   "metadata": {},
   "source": [
    "# Day 5 "
   ]
  },
  {
   "cell_type": "code",
   "execution_count": 4,
   "metadata": {},
   "outputs": [
    {
     "name": "stdout",
     "output_type": "stream",
     "text": [
      "   Department ID              Department Name\n",
      "0           D001       Accident and emergency\n",
      "1           D002                 Anaesthetics\n",
      "2           D003             Breast screening\n",
      "3           D004                   Cardiology\n",
      "4           D005                   Chaplaincy\n",
      "5           D006                Critical care\n",
      "6           D007           Diagnostic imaging\n",
      "7           D008             Discharge lounge\n",
      "8           D009    Ear nose and throat (ENT)\n",
      "9           D010  Elderly services department\n",
      "10          D011             Gastroenterology\n",
      "11          D012              General surgery\n",
      "12          D013                  Gynaecology\n",
      "13          D014                  Haematology\n",
      "14          D015                    Maternity\n",
      "15          D016                 Microbiology\n",
      "16          D017                Neonatal unit\n",
      "17          D018                   Nephrology\n",
      "18          D019                    Neurology\n",
      "19          D020      Nutrition and dietetics\n",
      "20          D021                   Obstetrics\n",
      "21          D022         Occupational therapy\n",
      "22          D023                     Oncology\n",
      "23          D024                Ophthalmology\n",
      "24          D025                 Orthopaedics\n",
      "25          D026              Pain management\n",
      "26          D027                     Pharmacy\n",
      "27          D028                Physiotherapy\n",
      "28          D029                 Radiotherapy\n",
      "29          D030                   Renal unit\n",
      "30          D031                 Rheumatology\n",
      "31          D032                Sexual health\n",
      "32          D033                      Urology\n"
     ]
    }
   ],
   "source": [
    "import pandas as pd\n",
    "HospitalDepartmentData = {'Department ID':[\"D001\",\"D002\",\"D003\",\"D004\",\"D005\",\"D006\",\"D007\",\"D008\",\"D009\",\"D010\",\"D011\",\"D012\",\"D013\",\"D014\",\"D015\",\"D016\",\"D017\",\"D018\",\"D019\",\"D020\",\"D021\",\"D022\",\"D023\",\"D024\",\"D025\",\"D026\",\"D027\",\"D028\",\"D029\",\"D030\",\"D031\",\"D032\",\"D033\"],\n",
    "                          'Department Name':[\"Accident and emergency\",\"Anaesthetics\",\"Breast screening\",\"Cardiology\",\"Chaplaincy\",\"Critical care\",\"Diagnostic imaging\",\"Discharge lounge\",\"Ear nose and throat (ENT)\",\"Elderly services department\",\"Gastroenterology\",\"General surgery\",\"Gynaecology\",\"Haematology\",\"Maternity\",\"Microbiology\",\"Neonatal unit\",\"Nephrology\",\"Neurology\",\"Nutrition and dietetics\",\"Obstetrics\",\"Occupational therapy\",\"Oncology\",\"Ophthalmology\",\"Orthopaedics\",\"Pain management\",\"Pharmacy\",\"Physiotherapy\",\"Radiotherapy\",\"Renal unit\",\"Rheumatology\",\"Sexual health\",\"Urology\"]}\n",
    "HospitalDepartmentDataFrame = pd.DataFrame(HospitalDepartmentData)\n",
    "print(HospitalDepartmentDataFrame)\n",
    "HospitalDepartmentDataFrame.to_csv('../Datasets/HospitalDepartments.csv')"
   ]
  },
  {
   "cell_type": "code",
   "execution_count": 1,
   "metadata": {},
   "outputs": [
    {
     "name": "stdout",
     "output_type": "stream",
     "text": [
      "   Department ID Doctor ID        Doctor Name Availabity  Age\n",
      "0           D001    DOC001       Alecc Travis          T   25\n",
      "1           D002    DOC002           Ben Kole          T   34\n",
      "2           D003    DOC003       Camilla Dean          F   42\n",
      "3           D004    DOC004           Dia Mani          T   51\n",
      "4           D005    DOC005       Enrique Diaz          T   26\n",
      "5           D006    DOC006      Fergie Wilson          T   28\n",
      "6           D007    DOC007            Guy Raz          F   33\n",
      "7           D008    DOC008       Hayley Stein          F   41\n",
      "8           D009    DOC009           Iman Dey          F   36\n",
      "9           D010    DOC010           John Doe          T   25\n",
      "10          D011    DOC011       Kathlyn Rune          T   53\n",
      "11          D012    DOC012         Liam Neson          F   32\n",
      "12          D013    DOC013        Matilda Moh          F   29\n",
      "13          D014    DOC014          Neyo Zest          F   27\n",
      "14          D015    DOC015           Oman Ali          T   41\n",
      "15          D016    DOC016        Paras Mehts          T   37\n",
      "16          D017    DOC017         Queen Pill          T   38\n",
      "17          D018    DOC018         Ramy Malek          F   49\n",
      "18          D019    DOC019     Sunaina Tiwari          F   30\n",
      "19          D020    DOC020          Tony Lake          F   45\n",
      "20          D021    DOC021           Ury Zest          T   44\n",
      "21          D022    DOC022  Veronica Von Duke          T   47\n",
      "22          D023    DOC023          Wong Lane          F   52\n",
      "23          D024    DOC024             Xao Xi          T   59\n",
      "24          D025    DOC025        Yamee Singh          F   37\n",
      "25          D026    DOC026      Zambique Sekh          F   54\n",
      "26          D027    DOC027  Alexandria Cortez          T   28\n",
      "27          D028    DOC028        Bojack Ping          F   47\n",
      "28          D029    DOC029        Cassie Cage          T   29\n",
      "29          D030    DOC030    Dominic Escreto          F   43\n",
      "30          D031    DOC031      Emanuel Haque          T   47\n",
      "31          D032    DOC032        Falguni Roy          F   41\n",
      "32          D033    DOC033       Gopesh Dutta          T   38\n"
     ]
    }
   ],
   "source": [
    "import pandas as pd\n",
    "HospitalDoctorsDF = pd.read_csv('../Datasets/HospitalDoctors.csv')\n",
    "print(HospitalDoctorsDF)"
   ]
  },
  {
   "cell_type": "code",
   "execution_count": 2,
   "metadata": {},
   "outputs": [
    {
     "name": "stdout",
     "output_type": "stream",
     "text": [
      "   Patient ID        Patient Name          Disease Name  Sugar Level\n",
      "0      PAT001       Natalia Major      Laughing Cholera           48\n",
      "1      PAT002          Nelle Lona       Brain Stiffness           47\n",
      "2      PAT003  Cedrick Derryberry             Iron Acne           44\n",
      "3      PAT004      Hilary Nowland          Quiet Nausea           34\n",
      "4      PAT005    Alina Talamantez          Ghastly Feet            6\n",
      "5      PAT006       Jerilyn Ganey   Explosive Poisoning           31\n",
      "6      PAT007        Arron Fickes        Crazy Gangrene           24\n",
      "7      PAT008     Lamar Christine      Volatile Fatigue           37\n",
      "8      PAT009   Fredricka Fielden         Boar Insanity           26\n",
      "9      PAT010     Marnie Trammell          Rabid Blight           41\n",
      "10     PAT011       Eldon Maxwell         Spine Stomach           27\n",
      "11     PAT012       Maryjo Simoes       Weakening Cough           43\n",
      "12     PAT013      Cathey Bellman   Creeping Bronchitis           26\n",
      "13     PAT014      Isabel Schultz     Harmless Scarring           12\n",
      "14     PAT015        Amos Flanary          Lion Tetanus           12\n",
      "15     PAT016         Kory Liebig        Tiring Illness           12\n",
      "16     PAT017     Vannessa Beland  Withering Irritation           10\n",
      "17     PAT018      Bari Johansson          Sheep Aching           43\n",
      "18     PAT019        Elbert Swett          Hiccup Ebola           24\n",
      "19     PAT020       Danika Wolter       Desert Insanity            1\n",
      "20     PAT021         Kazuko Huwe        Crying Stomach           48\n",
      "21     PAT022      Lekisha Mccuen            Stiff Body           30\n",
      "22     PAT023        Tobie Rosado         Water Anxiety           49\n",
      "23     PAT024       Donald Eckman   Sheep Schizophrenia           10\n",
      "24     PAT025      Earnest Negron        Pygmy Soreness           20\n",
      "25     PAT026         Mitzie Goll         Hiccup Sneeze           31\n",
      "26     PAT027          Rey Makuch     Elephant Paranoia           10\n",
      "27     PAT028         Mina Pooley     Weakening Allergy           35\n",
      "28     PAT029         Allen Carey         Ugly Mutation           14\n",
      "29     PAT030      Trudy Guidotti       Silent Parasite           11\n",
      "30     PAT031  Katrina Mcloughlin    Paralyzing Fatigue           48\n",
      "31     PAT032          Fawn Kahre      Zombie Gonorrhea            7\n",
      "32     PAT033          Thad Paris         Wired Anthrax            7\n"
     ]
    },
    {
     "data": {
      "image/png": "[encoded data removed]",
      "text/plain": [
       "<Figure size 432x288 with 1 Axes>"
      ]
     },
     "metadata": {
      "needs_background": "light"
     },
     "output_type": "display_data"
    }
   ],
   "source": [
    "import pandas as pd\n",
    "import numpy as np\n",
    "import matplotlib.pyplot as plt\n",
    "%matplotlib inline\n",
    "HospitalPatientsDF = pd.read_csv('../Datasets/HospitalPatients.csv')\n",
    "print(HospitalPatientsDF)\n",
    "SugarLevels = HospitalPatientsDF['Sugar Level'].tolist() #Converts Sugar Level columnt to a list\n",
    "plt.hist(SugarLevels)\n",
    "plt.hist(np.mean(SugarLevels))\n",
    "plt.show()"
   ]
  }
 ],
 "metadata": {
  "kernelspec": {
   "display_name": "Python 3",
   "language": "python",
   "name": "python3"
  },
  "language_info": {
   "codemirror_mode": {
    "name": "ipython",
    "version": 3
   },
   "file_extension": ".py",
   "mimetype": "text/x-python",
   "name": "python",
   "nbconvert_exporter": "python",
   "pygments_lexer": "ipython3",
   "version": "3.7.3"
  }
 },
 "nbformat": 4,
 "nbformat_minor": 2
}
