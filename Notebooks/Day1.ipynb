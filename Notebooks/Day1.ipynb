{
 "cells": [
  {
   "cell_type": "markdown",
   "metadata": {},
   "source": [
    "# Day 1 "
   ]
  },
  {
   "cell_type": "markdown",
   "metadata": {},
   "source": [
    "### List\n",
    "List is a non homogeneous container data type, its elements are comma `,` seperated."
   ]
  },
  {
   "cell_type": "code",
   "execution_count": 8,
   "metadata": {},
   "outputs": [
    {
     "name": "stdout",
     "output_type": "stream",
     "text": [
      "one\n",
      "two\n"
     ]
    }
   ],
   "source": [
    "# Define a list\n",
    "list=[\"one\",\"two\"]\n",
    "# Iterates through all elements of the list\n",
    "for j in list:\n",
    "    print(j)"
   ]
  },
  {
   "cell_type": "markdown",
   "metadata": {},
   "source": [
    "### Functions\n",
    "Function are reusable blocks of code, they are declared using the `def` keyword."
   ]
  },
  {
   "cell_type": "code",
   "execution_count": 10,
   "metadata": {},
   "outputs": [
    {
     "name": "stdout",
     "output_type": "stream",
     "text": [
      "Hello\n"
     ]
    }
   ],
   "source": [
    "def hello():\n",
    "    print(\"Hello\")\n",
    "hello()"
   ]
  },
  {
   "cell_type": "code",
   "execution_count": 25,
   "metadata": {},
   "outputs": [
    {
     "name": "stdout",
     "output_type": "stream",
     "text": [
      "test\n",
      "Hi test\n"
     ]
    }
   ],
   "source": [
    "def name(arg):\n",
    "    print(\"Hi\",arg)\n",
    "a=input() \n",
    "name(a)"
   ]
  },
  {
   "cell_type": "code",
   "execution_count": 28,
   "metadata": {},
   "outputs": [
    {
     "name": "stdout",
     "output_type": "stream",
     "text": [
      "[10, 15, 20]\n",
      "[10, 15, 20]\n"
     ]
    }
   ],
   "source": [
    "def change_list(list11):\n",
    "    # Adds 20 to the list\n",
    "    list11.append(20)\n",
    "    print(list11)\n",
    "list11=[10,15]\n",
    "change_list(list11)\n",
    "print(list11)"
   ]
  },
  {
   "cell_type": "markdown",
   "metadata": {},
   "source": [
    "External libraries and modules can be used in python using the `import` and `from` keyword.\n",
    "They can also be aliased using the `as` keyword."
   ]
  },
  {
   "cell_type": "code",
   "execution_count": 2,
   "metadata": {},
   "outputs": [
    {
     "name": "stdout",
     "output_type": "stream",
     "text": [
      "2019-07-02\n",
      "2\n",
      "2019\n",
      "7\n"
     ]
    }
   ],
   "source": [
    "import datetime\n",
    "from datetime import date\n",
    "import calendar\n",
    "today=datetime.date.today()\n",
    "print(today)\n",
    "print(today.day)\n",
    "print(today.year)\n",
    "print(today.month)"
   ]
  },
  {
   "cell_type": "code",
   "execution_count": 38,
   "metadata": {},
   "outputs": [
    {
     "name": "stdout",
     "output_type": "stream",
     "text": [
      "357 days, 0:00:00\n"
     ]
    }
   ],
   "source": [
    "a = date(2019,1,8)\n",
    "b = date(2019,12,31)\n",
    "print(b-a)"
   ]
  },
  {
   "cell_type": "code",
   "execution_count": 35,
   "metadata": {},
   "outputs": [
    {
     "name": "stdout",
     "output_type": "stream",
     "text": [
      "2019-06-25\n"
     ]
    }
   ],
   "source": [
    "print(date.today())"
   ]
  },
  {
   "cell_type": "code",
   "execution_count": 3,
   "metadata": {},
   "outputs": [
    {
     "name": "stdout",
     "output_type": "stream",
     "text": [
      "<module 'calendar' from '/usr/lib/python3.7/calendar.py'>\n"
     ]
    }
   ],
   "source": [
    "print(calendar)"
   ]
  },
  {
   "cell_type": "code",
   "execution_count": 4,
   "metadata": {},
   "outputs": [
    {
     "data": {
      "text/plain": [
       "'olleH'"
      ]
     },
     "execution_count": 4,
     "metadata": {},
     "output_type": "execute_result"
    }
   ],
   "source": [
    "# A function which accepts string param and returns reverse\n",
    "def reverse_str(arg):\n",
    "#     i=len(arg)\n",
    "#     for b in arg:\n",
    "#         print(arg[i-1])\n",
    "#         i-=1\n",
    "    return arg[::-1]\n",
    "reverse_str(\"Hello\")"
   ]
  },
  {
   "cell_type": "code",
   "execution_count": 5,
   "metadata": {},
   "outputs": [
    {
     "name": "stdout",
     "output_type": "stream",
     "text": [
      "Palindrome\n"
     ]
    }
   ],
   "source": [
    "# Function which accepts any arguement and returns if palindrome or not\n",
    "def check_pal(arg):\n",
    "        rev=reverse_str(arg)\n",
    "        if arg==rev:\n",
    "            print(\"Palindrome\")\n",
    "        else:\n",
    "            print(\"!Palindrome\")\n",
    "check_pal(\"121\")"
   ]
  },
  {
   "cell_type": "code",
   "execution_count": 8,
   "metadata": {},
   "outputs": [
    {
     "name": "stdout",
     "output_type": "stream",
     "text": [
      "[1, 2, 3, 4]\n",
      "[]\n"
     ]
    }
   ],
   "source": [
    "nums = [1,2,3,4]\n",
    "nums1=nums.copy() # Creates copy of list\n",
    "print(nums1)\n",
    "nums1.clear() # Clears list elements\n",
    "print(nums1)"
   ]
  },
  {
   "cell_type": "code",
   "execution_count": 10,
   "metadata": {},
   "outputs": [
    {
     "name": "stdout",
     "output_type": "stream",
     "text": [
      "1.16.4\n",
      "[0 1 2 3 4 5 6 7 8 9]\n",
      "[[0 1 2]\n",
      " [3 4 5]\n",
      " [6 7 8]]\n"
     ]
    }
   ],
   "source": [
    "import numpy as np\n",
    "print (np.__version__)\n",
    "z = np.arange(1,10)\n",
    "print(z)\n",
    "y = np.arange(9).reshape(3,3) # reshapes the created list\n",
    "print(y)"
   ]
  },
  {
   "cell_type": "code",
   "execution_count": 125,
   "metadata": {},
   "outputs": [
    {
     "name": "stdout",
     "output_type": "stream",
     "text": [
      "[0. 0. 0. 0. 0. 0. 0. 0. 0. 0.]\n"
     ]
    }
   ],
   "source": [
    "Z = np.zeros(10) # Creates list of zeroes\n",
    "print(Z)"
   ]
  },
  {
   "cell_type": "code",
   "execution_count": 16,
   "metadata": {},
   "outputs": [
    {
     "name": "stdout",
     "output_type": "stream",
     "text": [
      "[23 36 20 49]\n"
     ]
    },
    {
     "data": {
      "text/plain": [
       "array([20, 23, 36, 49])"
      ]
     },
     "execution_count": 16,
     "metadata": {},
     "output_type": "execute_result"
    }
   ],
   "source": [
    "# Creates a random list and sorts its elements\n",
    "def sel_sort(x):\n",
    "    for i in range(len(x)):\n",
    "        swap= i + np.argmin(x[i:])\n",
    "        (x[i], x[swap]) = (x[swap], x[i])\n",
    "    return x\n",
    "\n",
    "x=(np.random.randint(low=1, high=50, size=4)) # Generates a list of random elements\n",
    "print(x)\n",
    "sel_sort(x)"
   ]
  }
 ],
 "metadata": {
  "kernelspec": {
   "display_name": "Python 3",
   "language": "python",
   "name": "python3"
  },
  "language_info": {
   "codemirror_mode": {
    "name": "ipython",
    "version": 3
   },
   "file_extension": ".py",
   "mimetype": "text/x-python",
   "name": "python",
   "nbconvert_exporter": "python",
   "pygments_lexer": "ipython3",
   "version": "3.7.3"
  }
 },
 "nbformat": 4,
 "nbformat_minor": 2
}
