{
 "cells": [
  {
   "cell_type": "markdown",
   "metadata": {},
   "source": [
    "# Day 3 "
   ]
  },
  {
   "cell_type": "code",
   "execution_count": 15,
   "metadata": {},
   "outputs": [
    {
     "name": "stdout",
     "output_type": "stream",
     "text": [
      "1\n",
      "4\n"
     ]
    }
   ],
   "source": [
    "import numpy  as np\n",
    "x = np.array([1,2,3,4,5], dtype = np.int8)\n",
    "print(x.itemsize)\n",
    "\n",
    "import numpy  as np\n",
    "x = np.array([1,2,3,4,5], dtype = np.float32)\n",
    "print(x.itemsize)\n"
   ]
  },
  {
   "cell_type": "code",
   "execution_count": 16,
   "metadata": {},
   "outputs": [
    {
     "name": "stdout",
     "output_type": "stream",
     "text": [
      "[ 10.          12.91549665  16.68100537  21.5443469   27.82559402\n",
      "  35.93813664  46.41588834  59.94842503  77.42636827 100.        ]\n"
     ]
    }
   ],
   "source": [
    "import numpy  as np\n",
    "a = np.logspace(1.0, 2.0, num = 10)\n",
    "print(a)\n"
   ]
  },
  {
   "cell_type": "code",
   "execution_count": 17,
   "metadata": {},
   "outputs": [
    {
     "name": "stdout",
     "output_type": "stream",
     "text": [
      "[2.         2.16011948 2.33305808 2.5198421  2.72158    2.93946898\n",
      " 3.1748021  3.42897593 3.70349885 4.        ]\n"
     ]
    }
   ],
   "source": [
    "import numpy  as np\n",
    "a = np.logspace(1.0, 2.0, num = 10, base = 2)\n",
    "print(a)"
   ]
  },
  {
   "cell_type": "code",
   "execution_count": 18,
   "metadata": {},
   "outputs": [
    {
     "name": "stdout",
     "output_type": "stream",
     "text": [
      "[10.  12.5 15.  17.5 20. ]\n"
     ]
    }
   ],
   "source": [
    "import numpy as np\n",
    "x = np.linspace(10,20,5)\n",
    "print(x)"
   ]
  },
  {
   "cell_type": "code",
   "execution_count": 22,
   "metadata": {},
   "outputs": [
    {
     "name": "stdout",
     "output_type": "stream",
     "text": [
      "Original array is: \n",
      "[[ 0  5 10 15]\n",
      " [20 25 30 35]\n",
      " [40 45 50 55]]\n",
      "\n",
      "\n",
      "Transpose of the original array is: \n",
      "[[ 0 20 40]\n",
      " [ 5 25 45]\n",
      " [10 30 50]\n",
      " [15 35 55]]\n",
      "\n",
      "\n"
     ]
    }
   ],
   "source": [
    "import numpy as np\n",
    "a = np.arange(0,60,5)\n",
    "a = a.reshape(3,4)\n",
    "\n",
    "print(\"Original array is: \")\n",
    "print (a)\n",
    "print (\"\\n\")\n",
    "\n",
    "print (\"Transpose of the original array is: \")\n",
    "b = a.T\n",
    "print (b)\n",
    "print (\"\\n\")"
   ]
  },
  {
   "cell_type": "code",
   "execution_count": 27,
   "metadata": {},
   "outputs": [
    {
     "name": "stdout",
     "output_type": "stream",
     "text": [
      "[[ 0 30]\n",
      " [10 40]\n",
      " [20 50]]\n"
     ]
    }
   ],
   "source": [
    "import numpy as np\n",
    "x = np.arange(0,60,10)\n",
    "x = x.reshape(2,3)\n",
    "\n",
    "y = x.T\n",
    "print(y)"
   ]
  },
  {
   "cell_type": "code",
   "execution_count": 30,
   "metadata": {},
   "outputs": [
    {
     "name": "stdout",
     "output_type": "stream",
     "text": [
      "The data is: \n",
      "[[ 0 10]\n",
      " [20 30]\n",
      " [40 50]]\n",
      "\n",
      "\n",
      "[[ 0 20 40]\n",
      " [10 30 50]]\n"
     ]
    }
   ],
   "source": [
    "import numpy as np\n",
    "x = np.arange(0,60,10)\n",
    "x = x.reshape(2,3)\n",
    "x = x.reshape(3,2)\n",
    "print(\"The data is: \")\n",
    "print(x)\n",
    "print(\"\\n\")\n",
    "\n",
    "y = x.T\n",
    "print(y)"
   ]
  },
  {
   "cell_type": "code",
   "execution_count": 32,
   "metadata": {},
   "outputs": [
    {
     "name": "stdout",
     "output_type": "stream",
     "text": [
      "[-2008.37228187 21684.78437214 17558.6472373  ... 31147.22231748\n",
      " 25064.57512646  1267.79251285]\n"
     ]
    },
    {
     "data": {
      "image/png": "[encoded data removed]",
      "text/plain": [
       "<Figure size 432x288 with 1 Axes>"
      ]
     },
     "metadata": {
      "needs_background": "light"
     },
     "output_type": "display_data"
    }
   ],
   "source": [
    "import matplotlib.pyplot as plt\n",
    "\n",
    "%matplotlib inline\n",
    "incomes = np.random.normal(10000,19000,11000)\n",
    "\n",
    "print(incomes)\n",
    "np.mean(incomes)\n",
    "\n",
    "plt.hist(incomes,50)\n",
    "plt.show()"
   ]
  },
  {
   "cell_type": "code",
   "execution_count": 36,
   "metadata": {},
   "outputs": [
    {
     "name": "stdout",
     "output_type": "stream",
     "text": [
      "[  5.61800215  32.16039083  26.27582887  -3.7258132   29.75892061\n",
      "  -3.68981062  16.20917327  70.75165866  36.91519295 -23.33203899\n",
      "  31.89072112 -16.55721068   6.22594867  18.8806111   -2.62520401\n",
      "  11.86176949 -18.30404849  49.41089475   0.16653365  -3.94464088\n",
      "  20.11541448 -17.01446721   2.83183518  32.38223504  30.8995663\n",
      "  14.90912718  14.03502259  -2.0844391   41.02051656  -1.26728573]\n"
     ]
    },
    {
     "data": {
      "image/png": "[encoded data removed]",
      "text/plain": [
       "<Figure size 432x288 with 1 Axes>"
      ]
     },
     "metadata": {
      "needs_background": "light"
     },
     "output_type": "display_data"
    }
   ],
   "source": [
    "import numpy as np\n",
    "import matplotlib.pyplot as plt\n",
    "\n",
    "%matplotlib inline\n",
    "patients = np.random.normal(15,20,30)\n",
    "\n",
    "print(patients)\n",
    "np.mean(patients)\n",
    "\n",
    "import matplotlib.pyplot as plt\n",
    "\n",
    "plt.hist(patients,50)\n",
    "plt.show()"
   ]
  },
  {
   "cell_type": "code",
   "execution_count": 4,
   "metadata": {},
   "outputs": [
    {
     "name": "stdout",
     "output_type": "stream",
     "text": [
      "[ 4106.14877879 17635.50203588 26088.23974714 ... 13038.90023735\n",
      " 37110.89462472 34320.8001661 ]\n",
      "[-14632.45118043  24213.98389702  15766.19261777 ...  -2081.63445564\n",
      "  13102.29166955   5832.69467189]\n"
     ]
    },
    {
     "data": {
      "image/png": "[encoded data removed]",
      "text/plain": [
       "<Figure size 432x288 with 1 Axes>"
      ]
     },
     "metadata": {
      "needs_background": "light"
     },
     "output_type": "display_data"
    }
   ],
   "source": [
    "import numpy as np\n",
    "import matplotlib.pyplot as plt\n",
    "\n",
    "%matplotlib inline\n",
    "patients1 = np.random.normal(15000,20000,30000)\n",
    "\n",
    "print(patients1)\n",
    "np.mean(patients1)\n",
    "\n",
    "patients2 = np.random.normal(14000,19000,29000)\n",
    "\n",
    "print(patients2)\n",
    "np.mean(patients2)\n",
    "\n",
    "import matplotlib.pyplot as plt\n",
    "\n",
    "plt.hist(patients1,50)\n",
    "plt.hist(patients2,50)\n",
    "plt.show()"
   ]
  },
  {
   "cell_type": "code",
   "execution_count": 41,
   "metadata": {},
   "outputs": [
    {
     "data": {
      "text/plain": [
       "15130.726872662564"
      ]
     },
     "execution_count": 41,
     "metadata": {},
     "output_type": "execute_result"
    }
   ],
   "source": [
    "np.median(patients1)"
   ]
  },
  {
   "cell_type": "code",
   "execution_count": 42,
   "metadata": {},
   "outputs": [
    {
     "data": {
      "text/plain": [
       "5098.2265544196"
      ]
     },
     "execution_count": 42,
     "metadata": {},
     "output_type": "execute_result"
    }
   ],
   "source": [
    "np.median(patients2)"
   ]
  },
  {
   "cell_type": "code",
   "execution_count": 43,
   "metadata": {},
   "outputs": [
    {
     "name": "stdout",
     "output_type": "stream",
     "text": [
      "20070.01910975699 29947.28144360444\n"
     ]
    },
    {
     "data": {
      "text/plain": [
       "<function matplotlib.pyplot.show(*args, **kw)>"
      ]
     },
     "execution_count": 43,
     "metadata": {},
     "output_type": "execute_result"
    },
    {
     "data": {
      "image/png": "[encoded data removed]",
      "text/plain": [
       "<Figure size 432x288 with 1 Axes>"
      ]
     },
     "metadata": {
      "needs_background": "light"
     },
     "output_type": "display_data"
    }
   ],
   "source": [
    "patient1 = np.random.normal(20000,2000,1000)\n",
    "patient2 = np.random.normal(30000,3000,1000)\n",
    "\n",
    "a = np.mean(patient1)\n",
    "b = np.mean(patient2)\n",
    "\n",
    "print(a,b)\n",
    "plt.hist(patient1)\n",
    "plt.hist(patient2)\n",
    "plt.show"
   ]
  },
  {
   "cell_type": "code",
   "execution_count": 3,
   "metadata": {},
   "outputs": [
    {
     "name": "stdout",
     "output_type": "stream",
     "text": [
      "[21234.7913363   7510.9017871  39251.80984375 ...  9394.96536565\n",
      " 35093.11054975 28058.46833108]\n",
      "[ 29247.05156677 -14558.93139835  20492.24873004 ...  20819.34811161\n",
      "  17632.87557495    378.56729364]\n"
     ]
    },
    {
     "data": {
      "image/png": "[encoded data removed]",
      "text/plain": [
       "<Figure size 432x288 with 1 Axes>"
      ]
     },
     "metadata": {
      "needs_background": "light"
     },
     "output_type": "display_data"
    }
   ],
   "source": [
    "import numpy as np\n",
    "#import matplotlib.pyplot as plt\n",
    "\n",
    "\n",
    "%matplotlib inline\n",
    "database1 = np.random.normal(15000,20000,30000)\n",
    "\n",
    "print(database1)\n",
    "np.mean(database1)\n",
    "np.median(database1)\n",
    "\n",
    "database2 = np.random.normal(10000,15000,29000)\n",
    "\n",
    "print(database2)\n",
    "np.mean(database2)\n",
    "np.median(database2)\n",
    "\n",
    "import matplotlib.pyplot as plt\n",
    "\n",
    "plt.hist(database1,50)\n",
    "plt.hist(database2,50)\n",
    "plt.show()"
   ]
  },
  {
   "cell_type": "code",
   "execution_count": 6,
   "metadata": {},
   "outputs": [
    {
     "name": "stdout",
     "output_type": "stream",
     "text": [
      "0    a\n",
      "1    b\n",
      "2    c\n",
      "dtype: object\n"
     ]
    }
   ],
   "source": [
    "import pandas as pd\n",
    "s = pd.Series(list('abc'))\n",
    "print(s)"
   ]
  },
  {
   "cell_type": "code",
   "execution_count": 4,
   "metadata": {},
   "outputs": [
    {
     "name": "stdout",
     "output_type": "stream",
     "text": [
      "0    a\n",
      "1    b\n",
      "2    c\n",
      "dtype: object\n"
     ]
    }
   ],
   "source": [
    "import pandas as pd\n",
    "s = pd.Series([1,2,3,4], index = ['i','j','k','l'])\n",
    "s = pd.Series(list('abc'))\n",
    "print(s)"
   ]
  },
  {
   "cell_type": "code",
   "execution_count": 10,
   "metadata": {},
   "outputs": [
    {
     "data": {
      "image/png": "[encoded data removed]",
      "text/plain": [
       "<Figure size 432x288 with 1 Axes>"
      ]
     },
     "metadata": {
      "needs_background": "light"
     },
     "output_type": "display_data"
    }
   ],
   "source": [
    "import numpy as np\n",
    "from matplotlib import pyplot as plt\n",
    "%matplotlib inline\n",
    "x = np.arange(1,11)\n",
    "y = 2 * x + 5\n",
    "plt.title(\"matplotlib demo: \")\n",
    "plt.xlabel(\"x axis caption: \")\n",
    "plt.ylabel(\"y axis caption: \")\n",
    "plt.plot(x,y)\n",
    "plt.show()"
   ]
  },
  {
   "cell_type": "code",
   "execution_count": 13,
   "metadata": {},
   "outputs": [
    {
     "data": {
      "image/png": "[encoded data removed]",
      "text/plain": [
       "<Figure size 432x288 with 1 Axes>"
      ]
     },
     "metadata": {
      "needs_background": "light"
     },
     "output_type": "display_data"
    }
   ],
   "source": [
    "import numpy as np\n",
    "from matplotlib import pyplot as plt\n",
    "%matplotlib inline\n",
    "x = np.arange(1,11)\n",
    "y = 2 * x + 5\n",
    "plt.title(\"matplotlib demo: \")\n",
    "plt.xlabel(\"x axis caption: \")\n",
    "plt.ylabel(\"y axis caption: \")\n",
    "plt.scatter(x,y)\n",
    "plt.show()"
   ]
  },
  {
   "cell_type": "code",
   "execution_count": 5,
   "metadata": {},
   "outputs": [
    {
     "data": {
      "image/png": "[encoded data removed]",
      "text/plain": [
       "<Figure size 432x288 with 1 Axes>"
      ]
     },
     "metadata": {
      "needs_background": "light"
     },
     "output_type": "display_data"
    }
   ],
   "source": [
    "import numpy as np\n",
    "from matplotlib import pyplot as plt\n",
    "%matplotlib inline\n",
    "x = np.arange(0, 3 *np.pi, 0.1)\n",
    "y = np.sin(x)\n",
    "plt.title(\"Sin wave form\")\n",
    "\n",
    "plt.plot(x,y)\n",
    "plt.show()"
   ]
  },
  {
   "cell_type": "code",
   "execution_count": 6,
   "metadata": {},
   "outputs": [
    {
     "data": {
      "image/png": "[encoded data removed]",
      "text/plain": [
       "<Figure size 432x288 with 1 Axes>"
      ]
     },
     "metadata": {
      "needs_background": "light"
     },
     "output_type": "display_data"
    }
   ],
   "source": [
    "import numpy as np\n",
    "from matplotlib import pyplot as plt\n",
    "%matplotlib inline\n",
    "x = np.arange(0, 3 *np.pi, 0.1)\n",
    "y = np.sin(x)\n",
    "z = np.cos(x)\n",
    "plt.title(\"Sin and cosine wave form \")\n",
    "\n",
    "plt.plot(x,y,x,z)\n",
    "plt.show()"
   ]
  },
  {
   "cell_type": "code",
   "execution_count": 19,
   "metadata": {},
   "outputs": [
    {
     "name": "stdout",
     "output_type": "stream",
     "text": [
      "Series([], dtype: float64)\n"
     ]
    }
   ],
   "source": [
    "import pandas as pd\n",
    "s = pd.Series()\n",
    "print(s)"
   ]
  },
  {
   "cell_type": "code",
   "execution_count": 23,
   "metadata": {},
   "outputs": [
    {
     "name": "stdout",
     "output_type": "stream",
     "text": [
      "0    a\n",
      "1    b\n",
      "2    c\n",
      "3    d\n",
      "dtype: object\n"
     ]
    }
   ],
   "source": [
    "import pandas as pd\n",
    "\n",
    "import numpy as np\n",
    "\n",
    "data = np.array(['a','b','c','d'])\n",
    "s = pd.Series(data)\n",
    "print(s)"
   ]
  },
  {
   "cell_type": "code",
   "execution_count": 24,
   "metadata": {},
   "outputs": [
    {
     "name": "stdout",
     "output_type": "stream",
     "text": [
      "a    0.0\n",
      "b    1.0\n",
      "c    2.0\n",
      "dtype: float64\n"
     ]
    }
   ],
   "source": [
    "import pandas as pd\n",
    "\n",
    "import numpy as np\n",
    "\n",
    "data = {'a': 0.,'b': 1.,'c': 2}\n",
    "s = pd.Series(data)\n",
    "print(s)"
   ]
  },
  {
   "cell_type": "code",
   "execution_count": 59,
   "metadata": {},
   "outputs": [
    {
     "name": "stdout",
     "output_type": "stream",
     "text": [
      "a    0.0\n",
      "b    1.0\n",
      "c    2.0\n",
      "dtype: float64\n",
      "[27229.7590463  74580.31628169 -1505.22033514 ... -5585.33335434\n",
      " 98212.50764231 88061.33303094]\n",
      "[ 2622.59990918  6960.57671079 67477.59103811 ... 53497.74751918\n",
      " 99986.34340309 39812.41423411]\n",
      "[22247.84606018 22112.70521247 32048.465202   ... 27225.73188817\n",
      " 33855.08009456 32868.21850407]\n",
      "\n",
      "\n",
      "mean of  dataset1: 59938.36972553614\n",
      "mean of dataset2: 40042.9139227908\n",
      "mean of dataset3: 20035.777145128053\n",
      "median of dataset1: 60036.14407866876\n",
      "median of dataset2: 39962.25204908976\n",
      "median of dataset3: 20077.480691940324\n"
     ]
    },
    {
     "data": {
      "image/png": "[encoded data removed]",
      "text/plain": [
       "<Figure size 432x288 with 1 Axes>"
      ]
     },
     "metadata": {
      "needs_background": "light"
     },
     "output_type": "display_data"
    }
   ],
   "source": [
    "import numpy as np\n",
    "import pandas as pd\n",
    "import matplotlib.pyplot as plt\n",
    "dataset1=np.random.normal(60000,45000,35000)\n",
    "dataset2=np.random.normal(40000,32000,25000)\n",
    "dataset3=np.random.normal(20000,15000,12000)\n",
    "data = {'a': 0.,'b': 1.,'c': 2}\n",
    "s = pd.Series(data)\n",
    "print(s)\n",
    "\n",
    "print(dataset1)\n",
    "\n",
    "b=np.mean(dataset1)\n",
    "d=np.median(dataset1)\n",
    "plt.hist(dataset1,15)\n",
    "plt.show\n",
    "\n",
    "print(dataset2)\n",
    "c=np.mean(dataset2)\n",
    "e=np.median(dataset2)\n",
    "plt.hist(dataset2,15)\n",
    "plt.show\n",
    "\n",
    "print(dataset3)\n",
    "f=np.mean(dataset3)\n",
    "g=np.median(dataset3)\n",
    "plt.hist(dataset3,15)\n",
    "plt.show\n",
    "print(\"\\n\")\n",
    "print(\"mean of  dataset1:\",b)\n",
    "print(\"mean of dataset2:\",c)\n",
    "print(\"mean of dataset3:\",f)\n",
    "print(\"median of dataset1:\",d)\n",
    "print(\"median of dataset2:\",e)\n",
    "print(\"median of dataset3:\",g)\n"
   ]
  },
  {
   "cell_type": "code",
   "execution_count": 63,
   "metadata": {},
   "outputs": [
    {
     "data": {
      "image/png": "[encoded data removed]",
      "text/plain": [
       "<Figure size 432x288 with 1 Axes>"
      ]
     },
     "metadata": {
      "needs_background": "light"
     },
     "output_type": "display_data"
    },
    {
     "data": {
      "image/png": "[encoded data removed]",
      "text/plain": [
       "<Figure size 432x288 with 1 Axes>"
      ]
     },
     "metadata": {
      "needs_background": "light"
     },
     "output_type": "display_data"
    },
    {
     "data": {
      "image/png": "[encoded data removed]",
      "text/plain": [
       "<Figure size 432x288 with 1 Axes>"
      ]
     },
     "metadata": {
      "needs_background": "light"
     },
     "output_type": "display_data"
    }
   ],
   "source": [
    "import numpy as np\n",
    "import pandas as pd\n",
    "import matplotlib.pyplot as plt\n",
    "\n",
    "dataset1=np.random.normal(20000,2560,10000)\n",
    "#print(dataset1)\n",
    "b = np.mean(dataset1)\n",
    "data1 = {'a': 20000.,'b': 2560.,'c': 10000}\n",
    "s = pd.Series(data1)\n",
    "plt.hist(s)\n",
    "plt.show()\n",
    "\n",
    "dataset2=np.random.normal(50000,45660,10000)\n",
    "#print(dataset2)\n",
    "c = np.mean(dataset2)\n",
    "data2 = {'a': 60000.,'b': 45600.,'c': 10000}\n",
    "x = pd.Series(data2)\n",
    "plt.hist(x)\n",
    "plt.show()\n",
    "\n",
    "dataset3=np.random.normal(80000,45000,10000)\n",
    "#print(dataset3)\n",
    "d = np.mean(dataset3)\n",
    "data3 = {'a': 80000.,'b': 45000.,'c': 10000}\n",
    "y = pd.Series(data3)\n",
    "plt.hist(y)\n",
    "plt.show()"
   ]
  },
  {
   "cell_type": "code",
   "execution_count": 57,
   "metadata": {},
   "outputs": [
    {
     "data": {
      "image/png": "[encoded data removed]",
      "text/plain": [
       "<Figure size 432x288 with 1 Axes>"
      ]
     },
     "metadata": {
      "needs_background": "light"
     },
     "output_type": "display_data"
    }
   ],
   "source": [
    "totalmean = [b,c,d]\n",
    "f=np.mean(totalmean)\n",
    "plt.hist(f)\n",
    "plt.show()"
   ]
  },
  {
   "cell_type": "code",
   "execution_count": 2,
   "metadata": {},
   "outputs": [
    {
     "name": "stdout",
     "output_type": "stream",
     "text": [
      "[18890.76888207 21479.79044505 19007.44215727 ... 21444.84006791\n",
      " 19695.52207143 22904.91329643]\n"
     ]
    },
    {
     "data": {
      "image/png": "[encoded data removed]",
      "text/plain": [
       "<Figure size 432x288 with 1 Axes>"
      ]
     },
     "metadata": {
      "needs_background": "light"
     },
     "output_type": "display_data"
    }
   ],
   "source": [
    "import numpy as np\n",
    "import pandas as pd\n",
    "import matplotlib.pyplot as plt\n",
    "\n",
    "dataset1=np.random.normal(20000,2560,10000)\n",
    "print(dataset1)\n",
    "b = np.mean(dataset1)\n",
    "plt.hist(dataset1)\n",
    "plt.show()"
   ]
  },
  {
   "cell_type": "code",
   "execution_count": 3,
   "metadata": {},
   "outputs": [
    {
     "data": {
      "text/plain": [
       "2556.3166085450266"
      ]
     },
     "execution_count": 3,
     "metadata": {},
     "output_type": "execute_result"
    }
   ],
   "source": [
    "np.std(dataset1)"
   ]
  },
  {
   "cell_type": "code",
   "execution_count": 4,
   "metadata": {},
   "outputs": [
    {
     "name": "stdout",
     "output_type": "stream",
     "text": [
      "[17546.25755213 20887.71799248 21654.869504   ... 19297.86626671\n",
      " 22582.17328706 23487.32310791]\n"
     ]
    },
    {
     "data": {
      "image/png": "[encoded data removed]",
      "text/plain": [
       "<Figure size 432x288 with 1 Axes>"
      ]
     },
     "metadata": {
      "needs_background": "light"
     },
     "output_type": "display_data"
    }
   ],
   "source": [
    "import numpy as np\n",
    "import pandas as pd\n",
    "import matplotlib.pyplot as plt\n",
    "\n",
    "dataset1=np.random.normal(20000,2556.31,10000)\n",
    "print(dataset1)\n",
    "b = np.mean(dataset1)\n",
    "plt.hist(dataset1)\n",
    "plt.show()"
   ]
  }
 ],
 "metadata": {
  "kernelspec": {
   "display_name": "Python 3",
   "language": "python",
   "name": "python3"
  },
  "language_info": {
   "codemirror_mode": {
    "name": "ipython",
    "version": 3
   },
   "file_extension": ".py",
   "mimetype": "text/x-python",
   "name": "python",
   "nbconvert_exporter": "python",
   "pygments_lexer": "ipython3",
   "version": "3.7.3"
  }
 },
 "nbformat": 4,
 "nbformat_minor": 2
}
