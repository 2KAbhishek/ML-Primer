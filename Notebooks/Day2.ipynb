{
 "cells": [
  {
   "cell_type": "markdown",
   "metadata": {},
   "source": [
    "# Day 2 "
   ]
  },
  {
   "cell_type": "code",
   "execution_count": 9,
   "metadata": {},
   "outputs": [
    {
     "name": "stdout",
     "output_type": "stream",
     "text": [
      "(2, 3)\n",
      "[[1 2 3]\n",
      " [4 5 6]]\n"
     ]
    }
   ],
   "source": [
    "import numpy as np\n",
    "a = np.array([[1,2,3],[4,5,6]])\n",
    "print(a.shape)\n",
    "print(a)"
   ]
  },
  {
   "cell_type": "code",
   "execution_count": 10,
   "metadata": {},
   "outputs": [
    {
     "name": "stdout",
     "output_type": "stream",
     "text": [
      "[[1 2]\n",
      " [3 4]\n",
      " [5 6]]\n"
     ]
    }
   ],
   "source": [
    "a = np.array([[1,2,3],[4,5,6]])\n",
    "a.shape=(3,2)\n",
    "print(a)"
   ]
  },
  {
   "cell_type": "code",
   "execution_count": 13,
   "metadata": {},
   "outputs": [
    {
     "name": "stdout",
     "output_type": "stream",
     "text": [
      "[ 0  1  2  3  4  5  6  7  8  9 10 11 12 13 14 15 16 17 18 19 20 21 22 23]\n",
      "[[[ 0  1  2]\n",
      "  [ 3  4  5]\n",
      "  [ 6  7  8]\n",
      "  [ 9 10 11]]\n",
      "\n",
      " [[12 13 14]\n",
      "  [15 16 17]\n",
      "  [18 19 20]\n",
      "  [21 22 23]]]\n"
     ]
    }
   ],
   "source": [
    "a = np.arange(24)\n",
    "print(a)\n",
    "b = a.reshape(2,4,3)\n",
    "print(b)"
   ]
  },
  {
   "cell_type": "code",
   "execution_count": 20,
   "metadata": {},
   "outputs": [
    {
     "name": "stdout",
     "output_type": "stream",
     "text": [
      "1\n",
      "\n",
      "\n",
      "4\n",
      "\n",
      "\n",
      "[   2.    4.    8.   16.   32.   64.  128.  256.  512. 1024.]\n",
      "\n",
      "\n",
      "[ 10.          12.91549665  16.68100537  21.5443469   27.82559402\n",
      "  35.93813664  46.41588834  59.94842503  77.42636827 100.        ]\n",
      "\n",
      "\n",
      "[10.  12.5 15.  17.5 20. ]\n",
      "\n",
      "\n",
      "[10. 13. 16. 19. 22.]\n",
      "\n",
      "\n"
     ]
    }
   ],
   "source": [
    "import numpy as np\n",
    "a = np.array([1,2,3,4,5],dtype=np.int8)\n",
    "print(a.itemsize)\n",
    "print('\\n')\n",
    "\n",
    "\n",
    "b = np.array([1,2,3,4,5],dtype=np.float32)\n",
    "print(b.itemsize)\n",
    "print('\\n')\n",
    "\n",
    "c = np.logspace(1,10,num = 10, base =2)\n",
    "print(c)\n",
    "print('\\n')\n",
    "\n",
    "#default base for logspace is 10\n",
    "d = np.logspace(1.0, 2.0, num = 10)\n",
    "print(d)\n",
    "print('\\n')\n",
    "\n",
    "e = np.linspace(10,20,5)\n",
    "print(e)\n",
    "print('\\n')\n",
    "\n",
    "e = np.linspace(10,25,5, endpoint=False)\n",
    "print(e)\n",
    "print('\\n')"
   ]
  },
  {
   "cell_type": "code",
   "execution_count": 11,
   "metadata": {},
   "outputs": [
    {
     "name": "stdout",
     "output_type": "stream",
     "text": [
      "Original Array:\n",
      "[[ 0  5 10 15]\n",
      " [20 25 30 35]\n",
      " [40 45 50 55]]\n",
      "\n",
      "\n",
      "Transpose of Array:\n",
      "[[ 0 20 40]\n",
      " [ 5 25 45]\n",
      " [10 30 50]\n",
      " [15 35 55]]\n"
     ]
    }
   ],
   "source": [
    "import numpy as np\n",
    "a = np.arange(0,60,5)\n",
    "a = a.reshape(3,4)\n",
    "print (\"Original Array:\")\n",
    "print (a)\n",
    "print('\\n')\n",
    "print (\"Transpose of Array:\")\n",
    "b = a.T\n",
    "print(b)"
   ]
  },
  {
   "cell_type": "code",
   "execution_count": 30,
   "metadata": {},
   "outputs": [
    {
     "name": "stdout",
     "output_type": "stream",
     "text": [
      "[[ 0  8 16 24 32 40]]\n",
      "(1, 6)\n"
     ]
    }
   ],
   "source": [
    "import numpy as np\n",
    "a = np.arange(0,48,8)\n",
    "a = a.reshape(2,3)\n",
    "a = a.reshape(6,1)\n",
    "c = a.T\n",
    "print (c)\n",
    "print (c.shape)"
   ]
  },
  {
   "cell_type": "code",
   "execution_count": 75,
   "metadata": {},
   "outputs": [
    {
     "name": "stdout",
     "output_type": "stream",
     "text": [
      "[21779.35470858 17488.15823332 35904.51950588 ... 22318.19132272\n",
      " 32153.72699622 48099.21617888]\n"
     ]
    },
    {
     "data": {
      "text/plain": [
       "<function matplotlib.pyplot.show(*args, **kw)>"
      ]
     },
     "execution_count": 75,
     "metadata": {},
     "output_type": "execute_result"
    },
    {
     "data": {
      "image/png": "[encoded data removed]",
      "text/plain": [
       "<Figure size 432x288 with 1 Axes>"
      ]
     },
     "metadata": {
      "needs_background": "light"
     },
     "output_type": "display_data"
    }
   ],
   "source": [
    "import matplotlib.pyplot as plt\n",
    "%matplotlib inline\n",
    "incomes=np.random.normal(27000,15000,10000)\n",
    "print(incomes)\n",
    "np.mean(incomes)\n",
    "plt.hist(incomes,50)\n",
    "plt.show"
   ]
  },
  {
   "cell_type": "code",
   "execution_count": 44,
   "metadata": {},
   "outputs": [
    {
     "name": "stdout",
     "output_type": "stream",
     "text": [
      "3.5\n"
     ]
    }
   ],
   "source": [
    "nums = np.array([1,2,3,4,5,6])\n",
    "print(np.mean(nums))"
   ]
  },
  {
   "cell_type": "code",
   "execution_count": 96,
   "metadata": {},
   "outputs": [
    {
     "data": {
      "text/plain": [
       "<function matplotlib.pyplot.show(*args, **kw)>"
      ]
     },
     "execution_count": 96,
     "metadata": {},
     "output_type": "execute_result"
    },
    {
     "data": {
      "image/png": "[encoded data removed]",
      "text/plain": [
       "<Figure size 432x288 with 1 Axes>"
      ]
     },
     "metadata": {
      "needs_background": "light"
     },
     "output_type": "display_data"
    }
   ],
   "source": [
    "#15 !samples of Samples for type 1 & 2\n",
    "%matplotlib inline\n",
    "throat = np.random.normal(10000,20000,1000)\n",
    "stomach = np.random.normal(40000,30000,1000)\n",
    "skin = np.random.normal(90000,6000,1000)\n",
    "liver = np.random.normal(50000,20000,1000)\n",
    "blood = np.random.normal(70000,30000,1000)\n",
    "colon = np.random.normal(80000,6000,1000)\n",
    "# t4 = np.random.normal(160000,13000,1000)\n",
    "np.mean(throat)\n",
    "np.mean(stomach)\n",
    "np.mean(skin)\n",
    "np.mean(blood)\n",
    "plt.hist(throat,50)\n",
    "plt.hist(stomach,50)\n",
    "plt.hist(skin,50)\n",
    "plt.hist(blood,50)\n",
    "plt.hist(liver,50)\n",
    "plt.hist(blood,50)\n",
    "plt.hist(colon,50)\n",
    "# plt.hist(t4,50)\n",
    "plt.show"
   ]
  },
  {
   "cell_type": "code",
   "execution_count": 93,
   "metadata": {
    "scrolled": true
   },
   "outputs": [
    {
     "name": "stdout",
     "output_type": "stream",
     "text": [
      "19945.23165262527 30139.41354993613\n"
     ]
    },
    {
     "data": {
      "text/plain": [
       "<function matplotlib.pyplot.show(*args, **kw)>"
      ]
     },
     "execution_count": 93,
     "metadata": {},
     "output_type": "execute_result"
    },
    {
     "data": {
      "image/png": "[encoded data removed]",
      "text/plain": [
       "<Figure size 432x288 with 1 Axes>"
      ]
     },
     "metadata": {
      "needs_background": "light"
     },
     "output_type": "display_data"
    }
   ],
   "source": [
    "throat = np.random.normal(20000,2000,1000)\n",
    "stomach = np.random.normal(30000,3000,1000)\n",
    "a=np.mean(throat)\n",
    "b=np.mean(stomach)\n",
    "print(a,b)\n",
    "plt.hist(throat)\n",
    "plt.hist(stomach)\n",
    "plt.show\n",
    "\n"
   ]
  }
 ],
 "metadata": {
  "kernelspec": {
   "display_name": "Python 3",
   "language": "python",
   "name": "python3"
  },
  "language_info": {
   "codemirror_mode": {
    "name": "ipython",
    "version": 3
   },
   "file_extension": ".py",
   "mimetype": "text/x-python",
   "name": "python",
   "nbconvert_exporter": "python",
   "pygments_lexer": "ipython3",
   "version": "3.7.3"
  }
 },
 "nbformat": 4,
 "nbformat_minor": 2
}
