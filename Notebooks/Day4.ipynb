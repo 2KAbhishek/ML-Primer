{
 "cells": [
  {
   "cell_type": "markdown",
   "metadata": {},
   "source": [
    "# Day 4"
   ]
  },
  {
   "cell_type": "markdown",
   "metadata": {},
   "source": [
    "### OOP in Python\n",
    "Classes are blueprint for objects & objects are instances of classes. Classes must have a __init__ method which is similar to constructors and are called when the object is created."
   ]
  },
  {
   "cell_type": "code",
   "execution_count": 2,
   "metadata": {},
   "outputs": [
    {
     "name": "stdout",
     "output_type": "stream",
     "text": [
      "Name: Zara , Salary: 20000 , Gender: F\n",
      "Name: Zayn , Salary: 30000 , Gender: M\n",
      "Name: Yamel , Salary: 40000 , Gender: F\n",
      "Name: Yen , Salary: 50000 , Gender: M\n",
      "Total Employee 4\n"
     ]
    }
   ],
   "source": [
    "class Employee:\n",
    "# Creates employee class\n",
    "    empCount = 0\n",
    "\n",
    "    def __init__(self, name, salary, gender):\n",
    "        self.name = name\n",
    "        self.salary = salary\n",
    "        self.gender = gender\n",
    "        Employee.empCount += 1\n",
    "        \n",
    "    def displayCount(self):\n",
    "        print(\"Total Employee %d\" % Employee.empCount)\n",
    "        \n",
    "    def displayEmployee(self):\n",
    "        print(\"Name:\",self.name, \", Salary:\" , self.salary , \", Gender:\" ,self.gender)\n",
    "        \n",
    "# Create new employee objects\n",
    "emp1 = Employee(\"Zara\", 20000, \"F\")\n",
    "emp2 = Employee(\"Zayn\", 30000, \"M\")\n",
    "emp3 = Employee(\"Yamel\", 40000, \"F\")\n",
    "emp4 = Employee(\"Yen\", 50000, \"M\")\n",
    "\n",
    "emp1.displayEmployee()\n",
    "emp2.displayEmployee()\n",
    "emp3.displayEmployee()\n",
    "emp4.displayEmployee()\n",
    "print (\"Total Employee %d\" % Employee.empCount)"
   ]
  },
  {
   "cell_type": "code",
   "execution_count": 22,
   "metadata": {},
   "outputs": [
    {
     "name": "stdout",
     "output_type": "stream",
     "text": [
      "Employee Name: Zayn Employee ID: 1 Department Name: CSE Department ID: 1 Project Name: Compiler Design\n"
     ]
    }
   ],
   "source": [
    "class Department:\n",
    "    departmentCount = 0\n",
    "    \n",
    "    def __init__(self, name, id):\n",
    "        self.name = name\n",
    "        self.id = id\n",
    "        Department.departmentCount += 1\n",
    "    \n",
    "    def displayDepartment(self):\n",
    "        print(\"Name:\", self.name, \"ID:\", self.id)\n",
    "    \n",
    "class Project:\n",
    "    projectCount = 0\n",
    "    \n",
    "    def __init__(self, name):\n",
    "        self.name = name\n",
    "        \n",
    "    def displayProject(self):\n",
    "        print(\"Name:\", self.name)\n",
    "        \n",
    "class Employee:\n",
    "    empCount = 0\n",
    "\n",
    "    def __init__(self, name, id):\n",
    "        self.name = name\n",
    "        self.id = id\n",
    "        Employee.empCount += 1\n",
    "        \n",
    "    def displayCount(self):\n",
    "        print(\"Total Employee %d\" % Employee.empCount)\n",
    "        \n",
    "    def displayEmployee(self):\n",
    "        print(\"Name:\",self.name, \", Salary:\" , self.salary , \", Gender:\" ,self.gender)\n",
    "    \n",
    "dept1 = Department(\"CSE\",1)\n",
    "proj1 = Project(\"Compiler Design\")\n",
    "emp1 = Employee(\"Zayn\",1)\n",
    "\n",
    "def displayData():\n",
    "    print(\"Employee Name:\",emp1.name,\"Employee ID:\",emp1.id,\"Department Name:\",dept1.name,\"Department ID:\",dept1.id,\"Project Name:\",proj1.name)\n",
    "\n",
    "displayData()\n"
   ]
  },
  {
   "cell_type": "markdown",
   "metadata": {},
   "source": [
    "### Dictionaries\n",
    "Dictionaries are special container data types in which data is saved using key value pairs."
   ]
  },
  {
   "cell_type": "code",
   "execution_count": 35,
   "metadata": {},
   "outputs": [
    {
     "name": "stdout",
     "output_type": "stream",
     "text": [
      "Zara, 27\n"
     ]
    }
   ],
   "source": [
    "dict = {'Name':'Zara', 'Age':27}\n",
    "print(\"{}, {}\".format(dict['Name'],dict['Age']))\n",
    "dict['Age']:28"
   ]
  },
  {
   "cell_type": "markdown",
   "metadata": {},
   "source": [
    "### Data Frames\n",
    "DataFrames are 2D collection of Series, they look similar to an excel sheel and are widely used in Data Science."
   ]
  },
  {
   "cell_type": "code",
   "execution_count": 4,
   "metadata": {},
   "outputs": [
    {
     "name": "stdout",
     "output_type": "stream",
     "text": [
      "   Name   Age\n",
      "0  Alex  20.0\n",
      "1  Bomb  30.0\n"
     ]
    }
   ],
   "source": [
    "import pandas as pd\n",
    "data = [[\"Alex\",20], [\"Bomb\", 30]]\n",
    "df = pd.DataFrame(data, columns=['Name','Age'],dtype=float)\n",
    "print(df)"
   ]
  },
  {
   "cell_type": "code",
   "execution_count": 45,
   "metadata": {},
   "outputs": [
    {
     "name": "stdout",
     "output_type": "stream",
     "text": [
      "    Name  Age\n",
      "0    Tom   28\n",
      "1   Jack   34\n",
      "2  Steve   29\n"
     ]
    }
   ],
   "source": [
    "import pandas as pd\n",
    "data = {'Name':['Tom','Jack','Steve'],'Age':[28,34,29]}\n",
    "df = pd.DataFrame(data)\n",
    "print (df)"
   ]
  },
  {
   "cell_type": "code",
   "execution_count": 47,
   "metadata": {},
   "outputs": [
    {
     "name": "stdout",
     "output_type": "stream",
     "text": [
      "        Name  Age\n",
      "rank1    Tom   28\n",
      "rank2   Jack   34\n",
      "rank3  Steve   29\n"
     ]
    }
   ],
   "source": [
    "import pandas as pd\n",
    "data = {'Name':['Tom','Jack','Steve'],'Age':[28,34,29]}\n",
    "df = pd.DataFrame(data, index=['rank1','rank2','rank3'])\n",
    "print (df)"
   ]
  },
  {
   "cell_type": "code",
   "execution_count": 49,
   "metadata": {},
   "outputs": [
    {
     "name": "stdout",
     "output_type": "stream",
     "text": [
      "        a   b\n",
      "first   1   2\n",
      "second  5  10\n",
      "        a  b1\n",
      "first   1 NaN\n",
      "second  5 NaN\n"
     ]
    }
   ],
   "source": [
    "import pandas as pd\n",
    "data =[{'a':1,'b':2},{'a':5,'b':10,'c':20}]\n",
    "\n",
    "df1 = pd.DataFrame(data, index=['first','second'],columns=['a','b'])\n",
    "df2 = pd.DataFrame(data, index=['first','second'],columns=['a','b1'])\n",
    "print (df1)\n",
    "print (df2)"
   ]
  },
  {
   "cell_type": "code",
   "execution_count": 50,
   "metadata": {},
   "outputs": [
    {
     "name": "stdout",
     "output_type": "stream",
     "text": [
      "   one  two\n",
      "a  1.0    1\n",
      "b  2.0    2\n",
      "c  3.0    3\n",
      "d  NaN    4\n"
     ]
    }
   ],
   "source": [
    "import pandas as pd\n",
    "d = {'one': pd.Series((1,2,3), index=['a','b','c']),'two': pd.Series((1,2,3,4), index=['a','b','c','d'])}\n",
    "df = pd.DataFrame(d)\n",
    "print(df)"
   ]
  },
  {
   "cell_type": "code",
   "execution_count": 63,
   "metadata": {},
   "outputs": [
    {
     "name": "stdout",
     "output_type": "stream",
     "text": [
      "   one  two  three  four\n",
      "a  1.0    1   10.0  11.0\n",
      "b  2.0    2   20.0  22.0\n",
      "c  3.0    3   30.0  33.0\n",
      "d  NaN    4    NaN   NaN\n"
     ]
    }
   ],
   "source": [
    "import pandas as pd\n",
    "d1 = {'one': pd.Series((1,2,3), index=['a','b','c']),'two': pd.Series((1,2,3,4), index=['a','b','c','d'])}\n",
    "d2 = {'one': pd.Series((4,5,6), index=['d','e','f']),'two': pd.Series((7,8,9,10), index=['g','h','i','j'])}\n",
    "df1 = pd.DataFrame(d1)\n",
    "df1['three']=pd.Series([10,20,30],index=['a','b','c'])\n",
    "df1['four']=df1['one']+df1['three']\n",
    "print(df1)\n",
    "df2 = pd.DataFrame(d2)"
   ]
  },
  {
   "cell_type": "code",
   "execution_count": 5,
   "metadata": {},
   "outputs": [],
   "source": [
    "import pandas as pd\n",
    "name = [\"Shivam\",\"Ananta\",\"Abhishek\",\"Sanskriti\",\"Riya\"]\n",
    "deg = [\"MBA\", \"MTech\", \"MS\", \"ME\", \"MBA\"]\n",
    "scr = [\"79\", \"80\", \"81\", \"82\", \"90\"]\n",
    "\n",
    "dict = {'Name': name, 'Degree': deg, 'Score':scr}\n",
    "df = pd.DataFrame(dict)\n",
    "df.to_csv('../Datasets/Qualifications.csv') # Exports the DataFrame into a csv file"
   ]
  },
  {
   "cell_type": "code",
   "execution_count": 7,
   "metadata": {},
   "outputs": [
    {
     "name": "stdout",
     "output_type": "stream",
     "text": [
      "   Unnamed: 0       Name Degree  Score\n",
      "0           0     Shivam    MBA     79\n",
      "1           1     Ananta  MTech     80\n",
      "2           2   Abhishek     MS     81\n",
      "3           3  Sanskriti     ME     82\n",
      "4           4       Riya    MBA     90\n"
     ]
    }
   ],
   "source": [
    "import pandas as pd\n",
    "df1 = pd.read_csv('../Datasets/Qualifications.csv') # Imports the csv file as a DataFrame\n",
    "print(df1)"
   ]
  },
  {
   "cell_type": "code",
   "execution_count": 66,
   "metadata": {
    "collapsed": true
   },
   "outputs": [
    {
     "name": "stdout",
     "output_type": "stream",
     "text": [
      "     survived  pclass                                               name  \\\n",
      "0           0       3                            Braund, Mr. Owen Harris   \n",
      "1           1       1  Cumings, Mrs. John Bradley (Florence Briggs Th...   \n",
      "2           1       3                             Heikkinen, Miss. Laina   \n",
      "3           1       1       Futrelle, Mrs. Jacques Heath (Lily May Peel)   \n",
      "4           0       3                           Allen, Mr. William Henry   \n",
      "5           0       3                                   Moran, Mr. James   \n",
      "6           0       1                            McCarthy, Mr. Timothy J   \n",
      "7           0       3                     Palsson, Master. Gosta Leonard   \n",
      "8           1       3  Johnson, Mrs. Oscar W (Elisabeth Vilhelmina Berg)   \n",
      "9           1       2                Nasser, Mrs. Nicholas (Adele Achem)   \n",
      "10          1       3                    Sandstrom, Miss. Marguerite Rut   \n",
      "11          1       1                           Bonnell, Miss. Elizabeth   \n",
      "12          0       3                     Saundercock, Mr. William Henry   \n",
      "13          0       3                        Andersson, Mr. Anders Johan   \n",
      "14          0       3               Vestrom, Miss. Hulda Amanda Adolfina   \n",
      "15          1       2                   Hewlett, Mrs. (Mary D Kingcome)    \n",
      "16          0       3                               Rice, Master. Eugene   \n",
      "17          1       2                       Williams, Mr. Charles Eugene   \n",
      "18          0       3  Vander Planke, Mrs. Julius (Emelia Maria Vande...   \n",
      "19          1       3                            Masselmani, Mrs. Fatima   \n",
      "20          0       2                               Fynney, Mr. Joseph J   \n",
      "21          1       2                              Beesley, Mr. Lawrence   \n",
      "22          1       3                        McGowan, Miss. Anna \"Annie\"   \n",
      "23          1       1                       Sloper, Mr. William Thompson   \n",
      "24          0       3                      Palsson, Miss. Torborg Danira   \n",
      "25          1       3  Asplund, Mrs. Carl Oscar (Selma Augusta Emilia...   \n",
      "26          0       3                            Emir, Mr. Farred Chehab   \n",
      "27          0       1                     Fortune, Mr. Charles Alexander   \n",
      "28          1       3                      O'Dwyer, Miss. Ellen \"Nellie\"   \n",
      "29          0       3                                Todoroff, Mr. Lalio   \n",
      "..        ...     ...                                                ...   \n",
      "861         0       2                        Giles, Mr. Frederick Edward   \n",
      "862         1       1  Swift, Mrs. Frederick Joel (Margaret Welles Ba...   \n",
      "863         0       3                  Sage, Miss. Dorothy Edith \"Dolly\"   \n",
      "864         0       2                             Gill, Mr. John William   \n",
      "865         1       2                           Bystrom, Mrs. (Karolina)   \n",
      "866         1       2                       Duran y More, Miss. Asuncion   \n",
      "867         0       1               Roebling, Mr. Washington Augustus II   \n",
      "868         0       3                        van Melkebeke, Mr. Philemon   \n",
      "869         1       3                    Johnson, Master. Harold Theodor   \n",
      "870         0       3                                  Balkic, Mr. Cerin   \n",
      "871         1       1   Beckwith, Mrs. Richard Leonard (Sallie Monypeny)   \n",
      "872         0       1                           Carlsson, Mr. Frans Olof   \n",
      "873         0       3                        Vander Cruyssen, Mr. Victor   \n",
      "874         1       2              Abelson, Mrs. Samuel (Hannah Wizosky)   \n",
      "875         1       3                   Najib, Miss. Adele Kiamie \"Jane\"   \n",
      "876         0       3                      Gustafsson, Mr. Alfred Ossian   \n",
      "877         0       3                               Petroff, Mr. Nedelio   \n",
      "878         0       3                                 Laleff, Mr. Kristo   \n",
      "879         1       1      Potter, Mrs. Thomas Jr (Lily Alexenia Wilson)   \n",
      "880         1       2       Shelley, Mrs. William (Imanita Parrish Hall)   \n",
      "881         0       3                                 Markun, Mr. Johann   \n",
      "882         0       3                       Dahlberg, Miss. Gerda Ulrika   \n",
      "883         0       2                      Banfield, Mr. Frederick James   \n",
      "884         0       3                             Sutehall, Mr. Henry Jr   \n",
      "885         0       3               Rice, Mrs. William (Margaret Norton)   \n",
      "886         0       2                              Montvila, Rev. Juozas   \n",
      "887         1       1                       Graham, Miss. Margaret Edith   \n",
      "888         0       3           Johnston, Miss. Catherine Helen \"Carrie\"   \n",
      "889         1       1                              Behr, Mr. Karl Howell   \n",
      "890         0       3                                Dooley, Mr. Patrick   \n",
      "\n",
      "        sex   age  sibsp  parch            ticket      fare        cabin  \\\n",
      "0      male  22.0      1      0         A/5 21171    7.2500          NaN   \n",
      "1    female  38.0      1      0          PC 17599   71.2833          C85   \n",
      "2    female  26.0      0      0  STON/O2. 3101282    7.9250          NaN   \n",
      "3    female  35.0      1      0            113803   53.1000         C123   \n",
      "4      male  35.0      0      0            373450    8.0500          NaN   \n",
      "5      male   NaN      0      0            330877    8.4583          NaN   \n",
      "6      male  54.0      0      0             17463   51.8625          E46   \n",
      "7      male   2.0      3      1            349909   21.0750          NaN   \n",
      "8    female  27.0      0      2            347742   11.1333          NaN   \n",
      "9    female  14.0      1      0            237736   30.0708          NaN   \n",
      "10   female   4.0      1      1           PP 9549   16.7000           G6   \n",
      "11   female  58.0      0      0            113783   26.5500         C103   \n",
      "12     male  20.0      0      0         A/5. 2151    8.0500          NaN   \n",
      "13     male  39.0      1      5            347082   31.2750          NaN   \n",
      "14   female  14.0      0      0            350406    7.8542          NaN   \n",
      "15   female  55.0      0      0            248706   16.0000          NaN   \n",
      "16     male   2.0      4      1            382652   29.1250          NaN   \n",
      "17     male   NaN      0      0            244373   13.0000          NaN   \n",
      "18   female  31.0      1      0            345763   18.0000          NaN   \n",
      "19   female   NaN      0      0              2649    7.2250          NaN   \n",
      "20     male  35.0      0      0            239865   26.0000          NaN   \n",
      "21     male  34.0      0      0            248698   13.0000          D56   \n",
      "22   female  15.0      0      0            330923    8.0292          NaN   \n",
      "23     male  28.0      0      0            113788   35.5000           A6   \n",
      "24   female   8.0      3      1            349909   21.0750          NaN   \n",
      "25   female  38.0      1      5            347077   31.3875          NaN   \n",
      "26     male   NaN      0      0              2631    7.2250          NaN   \n",
      "27     male  19.0      3      2             19950  263.0000  C23 C25 C27   \n",
      "28   female   NaN      0      0            330959    7.8792          NaN   \n",
      "29     male   NaN      0      0            349216    7.8958          NaN   \n",
      "..      ...   ...    ...    ...               ...       ...          ...   \n",
      "861    male  21.0      1      0             28134   11.5000          NaN   \n",
      "862  female  48.0      0      0             17466   25.9292          D17   \n",
      "863  female   NaN      8      2          CA. 2343   69.5500          NaN   \n",
      "864    male  24.0      0      0            233866   13.0000          NaN   \n",
      "865  female  42.0      0      0            236852   13.0000          NaN   \n",
      "866  female  27.0      1      0     SC/PARIS 2149   13.8583          NaN   \n",
      "867    male  31.0      0      0          PC 17590   50.4958          A24   \n",
      "868    male   NaN      0      0            345777    9.5000          NaN   \n",
      "869    male   4.0      1      1            347742   11.1333          NaN   \n",
      "870    male  26.0      0      0            349248    7.8958          NaN   \n",
      "871  female  47.0      1      1             11751   52.5542          D35   \n",
      "872    male  33.0      0      0               695    5.0000  B51 B53 B55   \n",
      "873    male  47.0      0      0            345765    9.0000          NaN   \n",
      "874  female  28.0      1      0         P/PP 3381   24.0000          NaN   \n",
      "875  female  15.0      0      0              2667    7.2250          NaN   \n",
      "876    male  20.0      0      0              7534    9.8458          NaN   \n",
      "877    male  19.0      0      0            349212    7.8958          NaN   \n",
      "878    male   NaN      0      0            349217    7.8958          NaN   \n",
      "879  female  56.0      0      1             11767   83.1583          C50   \n",
      "880  female  25.0      0      1            230433   26.0000          NaN   \n",
      "881    male  33.0      0      0            349257    7.8958          NaN   \n",
      "882  female  22.0      0      0              7552   10.5167          NaN   \n",
      "883    male  28.0      0      0  C.A./SOTON 34068   10.5000          NaN   \n",
      "884    male  25.0      0      0   SOTON/OQ 392076    7.0500          NaN   \n",
      "885  female  39.0      0      5            382652   29.1250          NaN   \n",
      "886    male  27.0      0      0            211536   13.0000          NaN   \n",
      "887  female  19.0      0      0            112053   30.0000          B42   \n",
      "888  female   NaN      1      2        W./C. 6607   23.4500          NaN   \n",
      "889    male  26.0      0      0            111369   30.0000         C148   \n",
      "890    male  32.0      0      0            370376    7.7500          NaN   \n",
      "\n",
      "    embarked  \n",
      "0          S  \n",
      "1          C  \n",
      "2          S  \n",
      "3          S  \n",
      "4          S  \n",
      "5          Q  \n",
      "6          S  \n",
      "7          S  \n",
      "8          S  \n",
      "9          C  \n",
      "10         S  \n",
      "11         S  \n",
      "12         S  \n",
      "13         S  \n",
      "14         S  \n",
      "15         S  \n",
      "16         Q  \n",
      "17         S  \n",
      "18         S  \n",
      "19         C  \n",
      "20         S  \n",
      "21         S  \n",
      "22         Q  \n",
      "23         S  \n",
      "24         S  \n",
      "25         S  \n",
      "26         C  \n",
      "27         S  \n",
      "28         Q  \n",
      "29         S  \n",
      "..       ...  \n",
      "861        S  \n",
      "862        S  \n",
      "863        S  \n",
      "864        S  \n",
      "865        S  \n",
      "866        C  \n",
      "867        S  \n",
      "868        S  \n",
      "869        S  \n",
      "870        S  \n",
      "871        S  \n",
      "872        S  \n",
      "873        S  \n",
      "874        C  \n",
      "875        C  \n",
      "876        S  \n",
      "877        S  \n",
      "878        S  \n",
      "879        C  \n",
      "880        S  \n",
      "881        S  \n",
      "882        S  \n",
      "883        S  \n",
      "884        S  \n",
      "885        Q  \n",
      "886        S  \n",
      "887        S  \n",
      "888        S  \n",
      "889        C  \n",
      "890        Q  \n",
      "\n",
      "[891 rows x 11 columns]\n"
     ]
    }
   ],
   "source": [
    "import pandas as pd\n",
    "df=pd.read_csv(\"https://raw.githubusercontent.com/pcsanwald/kaggle-titanic/master/train.csv\")\n",
    "print(df)"
   ]
  }
 ],
 "metadata": {
  "kernelspec": {
   "display_name": "Python 3",
   "language": "python",
   "name": "python3"
  },
  "language_info": {
   "codemirror_mode": {
    "name": "ipython",
    "version": 3
   },
   "file_extension": ".py",
   "mimetype": "text/x-python",
   "name": "python",
   "nbconvert_exporter": "python",
   "pygments_lexer": "ipython3",
   "version": "3.7.3"
  }
 },
 "nbformat": 4,
 "nbformat_minor": 2
}
